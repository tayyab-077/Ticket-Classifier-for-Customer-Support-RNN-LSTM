{
 "cells": [
  {
   "cell_type": "code",
   "execution_count": 19,
   "id": "8fc5d54a-faca-4325-992e-0dc60d8609bb",
   "metadata": {},
   "outputs": [],
   "source": [
    "import pandas as pd\n",
    "import numpy as np\n",
    "import re, string\n",
    "from tensorflow.keras.preprocessing.text import Tokenizer\n",
    "from tensorflow.keras.preprocessing.sequence import pad_sequences\n",
    "from tensorflow.keras.models import Sequential\n",
    "from tensorflow.keras.layers import Embedding, LSTM, Dense, Dropout, Bidirectional\n",
    "from sklearn.model_selection import train_test_split\n",
    "from sklearn.preprocessing import LabelEncoder\n",
    "from tensorflow.keras.utils import to_categorical\n"
   ]
  },
  {
   "cell_type": "code",
   "execution_count": 20,
   "id": "f822a1ff-4290-4775-ab73-233e7b8b9de0",
   "metadata": {},
   "outputs": [],
   "source": [
    "# 1. Load Data\n",
    "df = pd.read_csv(\"it_service_tickets.csv\")   # change to actual file\n"
   ]
  },
  {
   "cell_type": "code",
   "execution_count": 21,
   "id": "0ffd8e31-c5de-40f4-b925-3f73a1d14b1a",
   "metadata": {},
   "outputs": [
    {
     "data": {
      "text/html": [
       "<div>\n",
       "<style scoped>\n",
       "    .dataframe tbody tr th:only-of-type {\n",
       "        vertical-align: middle;\n",
       "    }\n",
       "\n",
       "    .dataframe tbody tr th {\n",
       "        vertical-align: top;\n",
       "    }\n",
       "\n",
       "    .dataframe thead th {\n",
       "        text-align: right;\n",
       "    }\n",
       "</style>\n",
       "<table border=\"1\" class=\"dataframe\">\n",
       "  <thead>\n",
       "    <tr style=\"text-align: right;\">\n",
       "      <th></th>\n",
       "      <th>Document</th>\n",
       "      <th>Topic_group</th>\n",
       "    </tr>\n",
       "  </thead>\n",
       "  <tbody>\n",
       "    <tr>\n",
       "      <th>0</th>\n",
       "      <td>connection with icon icon dear please setup ic...</td>\n",
       "      <td>Hardware</td>\n",
       "    </tr>\n",
       "    <tr>\n",
       "      <th>1</th>\n",
       "      <td>work experience user work experience user hi w...</td>\n",
       "      <td>Access</td>\n",
       "    </tr>\n",
       "    <tr>\n",
       "      <th>2</th>\n",
       "      <td>requesting for meeting requesting meeting hi p...</td>\n",
       "      <td>Hardware</td>\n",
       "    </tr>\n",
       "    <tr>\n",
       "      <th>3</th>\n",
       "      <td>reset passwords for external accounts re expir...</td>\n",
       "      <td>Access</td>\n",
       "    </tr>\n",
       "    <tr>\n",
       "      <th>4</th>\n",
       "      <td>mail verification warning hi has got attached ...</td>\n",
       "      <td>Miscellaneous</td>\n",
       "    </tr>\n",
       "    <tr>\n",
       "      <th>5</th>\n",
       "      <td>mail please dear looks blacklisted receiving m...</td>\n",
       "      <td>Miscellaneous</td>\n",
       "    </tr>\n",
       "    <tr>\n",
       "      <th>6</th>\n",
       "      <td>prod servers tunneling prod tunneling va la tu...</td>\n",
       "      <td>Hardware</td>\n",
       "    </tr>\n",
       "    <tr>\n",
       "      <th>7</th>\n",
       "      <td>access request dear modules report report cost...</td>\n",
       "      <td>HR Support</td>\n",
       "    </tr>\n",
       "    <tr>\n",
       "      <th>8</th>\n",
       "      <td>reset passwords for our client and passwords c...</td>\n",
       "      <td>Access</td>\n",
       "    </tr>\n",
       "    <tr>\n",
       "      <th>9</th>\n",
       "      <td>direct reports missing time please action repo...</td>\n",
       "      <td>HR Support</td>\n",
       "    </tr>\n",
       "  </tbody>\n",
       "</table>\n",
       "</div>"
      ],
      "text/plain": [
       "                                            Document    Topic_group\n",
       "0  connection with icon icon dear please setup ic...       Hardware\n",
       "1  work experience user work experience user hi w...         Access\n",
       "2  requesting for meeting requesting meeting hi p...       Hardware\n",
       "3  reset passwords for external accounts re expir...         Access\n",
       "4  mail verification warning hi has got attached ...  Miscellaneous\n",
       "5  mail please dear looks blacklisted receiving m...  Miscellaneous\n",
       "6  prod servers tunneling prod tunneling va la tu...       Hardware\n",
       "7  access request dear modules report report cost...     HR Support\n",
       "8  reset passwords for our client and passwords c...         Access\n",
       "9  direct reports missing time please action repo...     HR Support"
      ]
     },
     "execution_count": 21,
     "metadata": {},
     "output_type": "execute_result"
    }
   ],
   "source": [
    "df.head(10)"
   ]
  },
  {
   "cell_type": "code",
   "execution_count": 22,
   "id": "c24157ee-df5d-4360-9958-fb302211d0a5",
   "metadata": {},
   "outputs": [],
   "source": [
    "# Encode labels (category mapping)\n",
    "# ---------------------------\n",
    "labels = df['Topic_group'].astype('category')\n",
    "y = pd.get_dummies(labels).values  # one-hot encoding"
   ]
  },
  {
   "cell_type": "code",
   "execution_count": null,
   "id": "b366cfde-e258-43c8-bb0b-3761a6b24ca6",
   "metadata": {},
   "outputs": [],
   "source": []
  },
  {
   "cell_type": "code",
   "execution_count": 23,
   "id": "16b66fdf-656a-4b26-bd3e-f60afa4311b2",
   "metadata": {},
   "outputs": [],
   "source": [
    "# Save the category mapping for later use in Streamlit\n",
    "category_mapping = list(labels.cat.categories)\n",
    "with open(\"category_mapping.pkl\", \"wb\") as f:\n",
    "    pickle.dump(category_mapping, f)"
   ]
  },
  {
   "cell_type": "code",
   "execution_count": 24,
   "id": "9598501f-c8ce-4b9d-a6a3-95edaa115cda",
   "metadata": {},
   "outputs": [],
   "source": [
    "# Clean text\n",
    "# ---------------------------\n",
    "texts = df['Document'].astype(str)\n",
    "def clean_text(t):\n",
    "    t = t.lower()\n",
    "    t = t.translate(str.maketrans(\"\", \"\", \"!\\\"#$%&'()*+,-./:;<=>?@[\\\\]^_`{|}~\"))\n",
    "    return t\n",
    "texts = texts.apply(clean_text)"
   ]
  },
  {
   "cell_type": "code",
   "execution_count": 25,
   "id": "02eb2486-f53c-4c70-bbba-a592623b1ce5",
   "metadata": {},
   "outputs": [],
   "source": [
    "# Tokenize and pad\n",
    "tokenizer = Tokenizer(num_words=20000)\n",
    "tokenizer.fit_on_texts(texts)\n",
    "X = tokenizer.texts_to_sequences(texts)\n",
    "X = pad_sequences(X, maxlen=50)\n"
   ]
  },
  {
   "cell_type": "code",
   "execution_count": 26,
   "id": "fa4a1a40-ec18-45e3-80d3-4af4dfeca94b",
   "metadata": {},
   "outputs": [],
   "source": [
    "# Train-test split\n",
    "X_train, X_val, y_train, y_val = train_test_split(X, y, test_size=0.2, random_state=42)"
   ]
  },
  {
   "cell_type": "code",
   "execution_count": 27,
   "id": "c6eb037b-d660-415b-9f8c-48ef4589affa",
   "metadata": {},
   "outputs": [],
   "source": [
    "# Build and train model\n",
    "model = Sequential([\n",
    "    Embedding(input_dim=20000, output_dim=128),\n",
    "    LSTM(64, dropout=0.3, recurrent_dropout=0.3),\n",
    "    Dense(64, activation='relu'),\n",
    "    Dropout(0.4),\n",
    "    Dense(y.shape[1], activation='softmax')\n",
    "\n",
    "    # Dense(len(df['Topic_group'].unique()), activation='softmax') #can also use it \n",
    "])"
   ]
  },
  {
   "cell_type": "code",
   "execution_count": 28,
   "id": "266dab78-40e2-445c-ac77-a6a918af9229",
   "metadata": {},
   "outputs": [
    {
     "name": "stdout",
     "output_type": "stream",
     "text": [
      "Epoch 1/5\n",
      "\u001b[1m598/598\u001b[0m \u001b[32m━━━━━━━━━━━━━━━━━━━━\u001b[0m\u001b[37m\u001b[0m \u001b[1m32s\u001b[0m 48ms/step - accuracy: 0.4760 - loss: 1.4408 - val_accuracy: 0.8009 - val_loss: 0.6120\n",
      "Epoch 2/5\n",
      "\u001b[1m598/598\u001b[0m \u001b[32m━━━━━━━━━━━━━━━━━━━━\u001b[0m\u001b[37m\u001b[0m \u001b[1m28s\u001b[0m 46ms/step - accuracy: 0.8082 - loss: 0.6267 - val_accuracy: 0.8239 - val_loss: 0.5510\n",
      "Epoch 3/5\n",
      "\u001b[1m598/598\u001b[0m \u001b[32m━━━━━━━━━━━━━━━━━━━━\u001b[0m\u001b[37m\u001b[0m \u001b[1m28s\u001b[0m 47ms/step - accuracy: 0.8507 - loss: 0.4954 - val_accuracy: 0.8337 - val_loss: 0.5190\n",
      "Epoch 4/5\n",
      "\u001b[1m598/598\u001b[0m \u001b[32m━━━━━━━━━━━━━━━━━━━━\u001b[0m\u001b[37m\u001b[0m \u001b[1m28s\u001b[0m 47ms/step - accuracy: 0.8673 - loss: 0.4270 - val_accuracy: 0.8370 - val_loss: 0.5174\n",
      "Epoch 5/5\n",
      "\u001b[1m598/598\u001b[0m \u001b[32m━━━━━━━━━━━━━━━━━━━━\u001b[0m\u001b[37m\u001b[0m \u001b[1m28s\u001b[0m 47ms/step - accuracy: 0.8878 - loss: 0.3707 - val_accuracy: 0.8377 - val_loss: 0.5101\n"
     ]
    },
    {
     "data": {
      "text/plain": [
       "<keras.src.callbacks.history.History at 0x27c278eb6b0>"
      ]
     },
     "execution_count": 28,
     "metadata": {},
     "output_type": "execute_result"
    }
   ],
   "source": [
    "model.compile(loss='categorical_crossentropy', optimizer='adam', metrics=['accuracy'])\n",
    "model.fit(X_train, y_train, validation_data=(X_val, y_val), epochs=5, batch_size=64)"
   ]
  },
  {
   "cell_type": "code",
   "execution_count": 29,
   "id": "2f244cb9-4a6a-4d96-8e6e-295b850fffb9",
   "metadata": {},
   "outputs": [
    {
     "name": "stderr",
     "output_type": "stream",
     "text": [
      "WARNING:absl:You are saving your model as an HDF5 file via `model.save()` or `keras.saving.save_model(model)`. This file format is considered legacy. We recommend using instead the native Keras format, e.g. `model.save('my_model.keras')` or `keras.saving.save_model(model, 'my_model.keras')`. \n"
     ]
    }
   ],
   "source": [
    "# Save model and tokenizer\n",
    "# ---------------------------\n",
    "model.save(\"ticket_classifier.h5\")\n",
    "with open(\"tokenizer.pkl\", \"wb\") as f:\n",
    "    pickle.dump(tokenizer, f)"
   ]
  },
  {
   "cell_type": "code",
   "execution_count": null,
   "id": "03058a79-d721-477e-9798-e8c20b9957b8",
   "metadata": {},
   "outputs": [],
   "source": []
  }
 ],
 "metadata": {
  "kernelspec": {
   "display_name": "Python 3 (ipykernel)",
   "language": "python",
   "name": "python3"
  },
  "language_info": {
   "codemirror_mode": {
    "name": "ipython",
    "version": 3
   },
   "file_extension": ".py",
   "mimetype": "text/x-python",
   "name": "python",
   "nbconvert_exporter": "python",
   "pygments_lexer": "ipython3",
   "version": "3.12.2"
  }
 },
 "nbformat": 4,
 "nbformat_minor": 5
}
